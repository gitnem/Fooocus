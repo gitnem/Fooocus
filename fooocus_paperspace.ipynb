{
 "cells": [
  {
   "cell_type": "markdown",
   "metadata": {},
   "source": [
    "To set up Fooocus on Paperspace, first open a terminal and install miniconda using the commands below. All you need to do is paste, and answer \"yes\" to each question."
   ]
  },
  {
   "cell_type": "code",
   "execution_count": null,
   "metadata": {},
   "outputs": [],
   "source": [
    "wget https://repo.anaconda.com/miniconda/Miniconda3-latest-Linux-x86_64.sh\n",
    "bash Miniconda3-latest-Linux-x86_64.sh "
   ]
  },
  {
   "cell_type": "markdown",
   "metadata": {},
   "source": [
    "If you want to map the shared LoRA and Checkpoint folders do the following"
   ]
  },
  {
   "cell_type": "code",
   "execution_count": 1,
   "metadata": {
    "execution": {
     "iopub.execute_input": "2023-12-22T15:51:57.728004Z",
     "iopub.status.busy": "2023-12-22T15:51:57.727263Z",
     "iopub.status.idle": "2023-12-22T15:52:00.817391Z",
     "shell.execute_reply": "2023-12-22T15:52:00.816482Z",
     "shell.execute_reply.started": "2023-12-22T15:51:57.727964Z"
    }
   },
   "outputs": [],
   "source": [
    "!rm -rf /notebooks/models/loras\n",
    "!rm -rf /notebooks/models/checkpoints\n",
    "!ln -sf /storage/loras /notebooks/models\n",
    "!ln -sf /storage/checkpoints /notebooks/models"
   ]
  },
  {
   "cell_type": "markdown",
   "metadata": {},
   "source": [
    "After the installation is complete, delete the terminal and create a new one. This will initiate conda. From there, you can paste the following code into the new terminal window to start Fooocus!"
   ]
  },
  {
   "cell_type": "code",
   "execution_count": null,
   "metadata": {},
   "outputs": [],
   "source": [
    "conda env create -f environment.yaml&&conda activate fooocus&&pip install -r requirements_versions.txt\n",
    "pip3 install torch==2.0.1\n",
    "python entry_with_update.py --listen --share\n",
    "python entry_with_update.py --preset anime --share\n",
    "python entry_with_update.py --preset realistic --share"
   ]
  }
 ],
 "metadata": {
  "kernelspec": {
   "display_name": "Python 3 (ipykernel)",
   "language": "python",
   "name": "python3"
  },
  "language_info": {
   "codemirror_mode": {
    "name": "ipython",
    "version": 3
   },
   "file_extension": ".py",
   "mimetype": "text/x-python",
   "name": "python",
   "nbconvert_exporter": "python",
   "pygments_lexer": "ipython3",
   "version": "3.9.16"
  }
 },
 "nbformat": 4,
 "nbformat_minor": 4
}
